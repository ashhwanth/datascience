{
 "cells": [
  {
   "cell_type": "code",
   "execution_count": 1,
   "metadata": {},
   "outputs": [],
   "source": [
    "import numpy as np"
   ]
  },
  {
   "cell_type": "code",
   "execution_count": 2,
   "metadata": {},
   "outputs": [],
   "source": [
    "a1 = np.array([[1,2,3],[1,1,1],[2,1,3]])\n",
    "a2 = np.array([[2,2,2],[1,3,1],[1,2,3]])\n",
    "\n",
    "# row = int(input(\"Enter the number of rows of first matrix: \"))\n",
    "# col = int(input(\"Enter the number of cols of first matrix: \"))\n",
    "# print(\"enter matrix 1 in single line seperated by space: \")\n",
    "# elements1 = list(map(int, input().split()))\n",
    "# matrix1 = np.array(elements1).reshape(row, col)\n",
    "# print(matrix1)\n",
    "# print(\"enter matrix 2 in single line seperated by space: \")\n",
    "# elements2 = list(map(int, input().split()))\n",
    "# matrix2 = np.array(elements2).reshape(row, col)\n",
    "# print(matrix2)"
   ]
  },
  {
   "cell_type": "code",
   "execution_count": 3,
   "metadata": {},
   "outputs": [
    {
     "name": "stdout",
     "output_type": "stream",
     "text": [
      "Dot Product\n",
      "[[ 7 14 13]\n",
      " [ 4  7  6]\n",
      " [ 8 13 14]]\n"
     ]
    }
   ],
   "source": [
    "print(f\"Dot Product\\n{np.dot(a1,a2)}\")"
   ]
  },
  {
   "cell_type": "code",
   "execution_count": 4,
   "metadata": {},
   "outputs": [
    {
     "name": "stdout",
     "output_type": "stream",
     "text": [
      "Transpose of A1\n",
      "[[1 1 2]\n",
      " [2 1 1]\n",
      " [3 1 3]]\n",
      "Transpose of A2\n",
      "[[2 1 1]\n",
      " [2 3 2]\n",
      " [2 1 3]]\n"
     ]
    }
   ],
   "source": [
    "print(f\"Transpose of A1\\n{np.transpose(a1)}\")\n",
    "print(f\"Transpose of A2\\n{np.transpose(a2)}\")"
   ]
  },
  {
   "cell_type": "code",
   "execution_count": 5,
   "metadata": {},
   "outputs": [
    {
     "name": "stdout",
     "output_type": "stream",
     "text": [
      "Trace of A1\n",
      "5\n",
      "Trace of A2\n",
      "8\n"
     ]
    }
   ],
   "source": [
    "#Trace -- Sum of diagonal elements\n",
    "print(f\"Trace of A1\\n{np.trace(a1)}\")\n",
    "print(f\"Trace of A2\\n{np.trace(a2)}\")"
   ]
  },
  {
   "cell_type": "code",
   "execution_count": 6,
   "metadata": {},
   "outputs": [
    {
     "name": "stdout",
     "output_type": "stream",
     "text": [
      "Rank of A1\n",
      "3\n",
      "Rank of A2\n",
      "3\n"
     ]
    }
   ],
   "source": [
    "print(f\"Rank of A1\\n{np.linalg.matrix_rank(a1)}\")\n",
    "print(f\"Rank of A2\\n{np.linalg.matrix_rank(a2)}\")"
   ]
  },
  {
   "cell_type": "code",
   "execution_count": 7,
   "metadata": {},
   "outputs": [
    {
     "name": "stdout",
     "output_type": "stream",
     "text": [
      "Det of A1\n",
      "-2.9999999999999996\n",
      "Det of A2\n",
      "7.999999999999998\n",
      "Inverse of A1\n",
      "[[-0.66666667  1.          0.33333333]\n",
      " [ 0.33333333  1.         -0.66666667]\n",
      " [ 0.33333333 -1.          0.33333333]]\n",
      "Inverse of A2\n",
      "[[ 0.875 -0.25  -0.5  ]\n",
      " [-0.25   0.5    0.   ]\n",
      " [-0.125 -0.25   0.5  ]]\n",
      "Eigen Values and Vector of A1\n",
      "(array([ 5.27144292, -0.9022229 ,  0.63077998]), array([[-0.63973503, -0.88445016, -0.26674995],\n",
      "       [-0.31400658,  0.26194117, -0.78642722],\n",
      "       [-0.70152616,  0.38617967,  0.55711462]]))\n",
      "Eigen Values and Vector of A2\n",
      "(array([5.56155281, 1.        , 1.43844719]), array([[-6.19030499e-01, -8.94427191e-01,  5.24114471e-01],\n",
      "       [-4.83324408e-01,  4.47213595e-01, -6.71273449e-01],\n",
      "       [-6.19030499e-01, -1.12098730e-16,  5.24114471e-01]]))\n"
     ]
    }
   ],
   "source": [
    "print(f\"Det of A1\\n{np.linalg.det(a1)}\")\n",
    "print(f\"Det of A2\\n{np.linalg.det(a2)}\")\n",
    "print(f\"Inverse of A1\\n{np.linalg.inv(a1)}\")\n",
    "print(f\"Inverse of A2\\n{np.linalg.inv(a2)}\")\n",
    "print(f\"Eigen Values and Vector of A1\\n{np.linalg.eig(a1)}\")\n",
    "print(f\"Eigen Values and Vector of A2\\n{np.linalg.eig(a2)}\")"
   ]
  },
  {
   "cell_type": "code",
   "execution_count": null,
   "metadata": {},
   "outputs": [],
   "source": []
  }
 ],
 "metadata": {
  "kernelspec": {
   "display_name": "Python 3",
   "language": "python",
   "name": "python3"
  },
  "language_info": {
   "codemirror_mode": {
    "name": "ipython",
    "version": 3
   },
   "file_extension": ".py",
   "mimetype": "text/x-python",
   "name": "python",
   "nbconvert_exporter": "python",
   "pygments_lexer": "ipython3",
   "version": "3.9.13"
  }
 },
 "nbformat": 4,
 "nbformat_minor": 2
}
