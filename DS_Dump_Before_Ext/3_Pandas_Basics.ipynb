{
 "cells": [
  {
   "cell_type": "code",
   "execution_count": 1,
   "metadata": {},
   "outputs": [],
   "source": [
    "import numpy as np\n",
    "import pandas as pd"
   ]
  },
  {
   "cell_type": "code",
   "execution_count": 2,
   "metadata": {},
   "outputs": [
    {
     "name": "stdout",
     "output_type": "stream",
     "text": [
      "[10, 12, 9, 11, 8]\n",
      "0    10\n",
      "1    12\n",
      "2     9\n",
      "3    11\n",
      "4     8\n",
      "dtype: int64\n"
     ]
    }
   ],
   "source": [
    "list = [10,12,9,11,8]\n",
    "x = pd.Series(list)\n",
    "print(list)\n",
    "print(x)"
   ]
  },
  {
   "cell_type": "code",
   "execution_count": 8,
   "metadata": {},
   "outputs": [
    {
     "name": "stdout",
     "output_type": "stream",
     "text": [
      "Dates : DatetimeIndex(['2023-01-01', '2023-01-02', '2023-01-03', '2023-01-04',\n",
      "               '2023-01-05', '2023-01-06', '2023-01-07', '2023-01-08',\n",
      "               '2023-01-09', '2023-01-10', '2023-01-11', '2023-01-12',\n",
      "               '2023-01-13', '2023-01-14', '2023-01-15', '2023-01-16',\n",
      "               '2023-01-17', '2023-01-18', '2023-01-19', '2023-01-20',\n",
      "               '2023-01-21', '2023-01-22', '2023-01-23', '2023-01-24',\n",
      "               '2023-01-25', '2023-01-26', '2023-01-27', '2023-01-28',\n",
      "               '2023-01-29', '2023-01-30', '2023-01-31', '2023-02-01'],\n",
      "              dtype='datetime64[ns]', freq='D')\n"
     ]
    }
   ],
   "source": [
    "print(f\"Dates : {pd.date_range('01-01-2023','02-01-2023')}\")"
   ]
  },
  {
   "cell_type": "code",
   "execution_count": 9,
   "metadata": {},
   "outputs": [
    {
     "name": "stdout",
     "output_type": "stream",
     "text": [
      "      Name  Age\n",
      "0    Abhay   23\n",
      "1     Baby   22\n",
      "2   Vishnu   24\n",
      "3    Anuja   23\n",
      "4  Anamika   22\n"
     ]
    }
   ],
   "source": [
    "data = {'Name' : ['Abhay','Baby','Vishnu','Anuja','Anamika'],\n",
    "        'Age': [23,22,24,23,22]}\n",
    "df = pd.DataFrame(data)\n",
    "print(df)"
   ]
  },
  {
   "cell_type": "code",
   "execution_count": 10,
   "metadata": {},
   "outputs": [
    {
     "name": "stdout",
     "output_type": "stream",
     "text": [
      "[['Abhay', 23], ['Baby', 22], ['Anuja', 23]]\n",
      "    Name  Age\n",
      "0  Abhay   23\n",
      "1   Baby   22\n",
      "2  Anuja   23\n"
     ]
    }
   ],
   "source": [
    "data = [['Abhay',23],['Baby',22],['Anuja',23]]\n",
    "print(data)\n",
    "data2 = pd.DataFrame(data,columns=['Name','Age'])\n",
    "print(data2)"
   ]
  },
  {
   "cell_type": "code",
   "execution_count": 11,
   "metadata": {},
   "outputs": [
    {
     "name": "stdout",
     "output_type": "stream",
     "text": [
      "   Velocity  Acceleration\n",
      "0        12            50\n",
      "1        13            45\n",
      "2        10            55\n",
      "3        15             9\n",
      "4        20            67\n",
      "5        14            52\n"
     ]
    }
   ],
   "source": [
    "data3 = pd.read_csv(\"testVelocity.csv\")\n",
    "print(data3)"
   ]
  },
  {
   "cell_type": "code",
   "execution_count": 17,
   "metadata": {},
   "outputs": [
    {
     "name": "stdout",
     "output_type": "stream",
     "text": [
      "   Velocity  Acceleration\n",
      "3        15             9\n",
      "1        13            45\n",
      "0        12            50\n",
      "5        14            52\n",
      "2        10            55\n",
      "4        20            67\n"
     ]
    }
   ],
   "source": [
    "print(data3.sort_values(by=['Acceleration'],inplace=False))"
   ]
  },
  {
   "cell_type": "code",
   "execution_count": 21,
   "metadata": {},
   "outputs": [
    {
     "name": "stdout",
     "output_type": "stream",
     "text": [
      "     Name  Age     City\n",
      "a   Abhay   23   Kannur\n",
      "b  Vishnu   24   Idukki\n",
      "c   Varun   28   Kollam\n",
      "d   Vivek   18  Wayanad\n",
      "     Name  Age     City\n",
      "0   Abhay   23   Kannur\n",
      "1  Vishnu   24   Idukki\n",
      "2   Varun   28   Kollam\n",
      "3   Vivek   18  Wayanad\n"
     ]
    }
   ],
   "source": [
    "df = pd.DataFrame({'Name': ['Abhay', 'Vishnu', 'Varun','Vivek'],\n",
    "                   'Age': [23, 24, 28,18],\n",
    "                   'City': ['Kannur', 'Idukki', 'Kollam',\"Wayanad\"]},\n",
    "                   index = ['a','b','c','d'])\n",
    "\n",
    "print(df)\n",
    "df.reset_index(drop=True, inplace=True)\n",
    "print(df)"
   ]
  },
  {
   "cell_type": "code",
   "execution_count": 22,
   "metadata": {},
   "outputs": [
    {
     "name": "stdout",
     "output_type": "stream",
     "text": [
      "     Name  Age    City\n",
      "0   Abhay   23  Kannur\n",
      "1  Vishnu   24  Idukki\n"
     ]
    }
   ],
   "source": [
    "print(df.head(2))"
   ]
  },
  {
   "cell_type": "code",
   "execution_count": 24,
   "metadata": {},
   "outputs": [
    {
     "name": "stdout",
     "output_type": "stream",
     "text": [
      "      Name       Job\n",
      "0    Abhay   Teacher\n",
      "1     Baby  Engineer\n",
      "2    Anuja   Teacher\n",
      "3  Anamika  Engineer\n",
      "      Name  Salary\n",
      "0    Abhay    1000\n",
      "1     Baby    1200\n",
      "2    Anuja    1100\n",
      "3  Anamika    1500\n",
      "      Name       Job  Salary\n",
      "0    Abhay   Teacher    1000\n",
      "1     Baby  Engineer    1200\n",
      "2    Anuja   Teacher    1100\n",
      "3  Anamika  Engineer    1500\n"
     ]
    }
   ],
   "source": [
    "data = {'Name':['Abhay','Baby','Anuja','Anamika'],\n",
    "        'Job':['Teacher','Engineer','Teacher','Engineer']}\n",
    "df1 = pd.DataFrame(data)\n",
    "df2 = pd.DataFrame({'Name':['Abhay','Baby','Anuja','Anamika'],\n",
    "                    'Salary':[1000,1200,1100,1500]})\n",
    "df=pd.merge(df1,df2,on='Name')\n",
    "print(df1)\n",
    "print(df2)\n",
    "print(df)"
   ]
  },
  {
   "cell_type": "code",
   "execution_count": 25,
   "metadata": {},
   "outputs": [
    {
     "name": "stdout",
     "output_type": "stream",
     "text": [
      "Job\n",
      "Engineer    1350.0\n",
      "Teacher     1050.0\n",
      "Name: Salary, dtype: float64\n"
     ]
    }
   ],
   "source": [
    "print(df.groupby('Job')['Salary'].mean())"
   ]
  },
  {
   "cell_type": "code",
   "execution_count": 27,
   "metadata": {},
   "outputs": [
    {
     "data": {
      "text/html": [
       "<div>\n",
       "<style scoped>\n",
       "    .dataframe tbody tr th:only-of-type {\n",
       "        vertical-align: middle;\n",
       "    }\n",
       "\n",
       "    .dataframe tbody tr th {\n",
       "        vertical-align: top;\n",
       "    }\n",
       "\n",
       "    .dataframe thead th {\n",
       "        text-align: right;\n",
       "    }\n",
       "</style>\n",
       "<table border=\"1\" class=\"dataframe\">\n",
       "  <thead>\n",
       "    <tr style=\"text-align: right;\">\n",
       "      <th></th>\n",
       "      <th>CName</th>\n",
       "      <th>Profit</th>\n",
       "    </tr>\n",
       "  </thead>\n",
       "  <tbody>\n",
       "    <tr>\n",
       "      <th>0</th>\n",
       "      <td>Accenture</td>\n",
       "      <td>True</td>\n",
       "    </tr>\n",
       "    <tr>\n",
       "      <th>1</th>\n",
       "      <td>IBM</td>\n",
       "      <td>False</td>\n",
       "    </tr>\n",
       "    <tr>\n",
       "      <th>2</th>\n",
       "      <td>TCS</td>\n",
       "      <td>True</td>\n",
       "    </tr>\n",
       "    <tr>\n",
       "      <th>3</th>\n",
       "      <td>Deloitte</td>\n",
       "      <td>False</td>\n",
       "    </tr>\n",
       "    <tr>\n",
       "      <th>4</th>\n",
       "      <td>TATA Elxsi</td>\n",
       "      <td>True</td>\n",
       "    </tr>\n",
       "  </tbody>\n",
       "</table>\n",
       "</div>"
      ],
      "text/plain": [
       "        CName  Profit\n",
       "0   Accenture    True\n",
       "1         IBM   False\n",
       "2         TCS    True\n",
       "3    Deloitte   False\n",
       "4  TATA Elxsi    True"
      ]
     },
     "execution_count": 27,
     "metadata": {},
     "output_type": "execute_result"
    }
   ],
   "source": [
    "df = pd.DataFrame({\n",
    "    'CName': ['Accenture', 'IBM', 'TCS', 'Deloitte', 'TATA Elxsi'],\n",
    "    'Profit': [100, -200, 300, -400, 500]\n",
    "})\n",
    "\n",
    "df['Profit'] = df['Profit']>0\n",
    "# df['Profit'] = df['Profit'].apply(lambda x:True if x>0 else False)\n",
    "df"
   ]
  },
  {
   "cell_type": "code",
   "execution_count": null,
   "metadata": {},
   "outputs": [],
   "source": []
  }
 ],
 "metadata": {
  "kernelspec": {
   "display_name": "Python 3",
   "language": "python",
   "name": "python3"
  },
  "language_info": {
   "codemirror_mode": {
    "name": "ipython",
    "version": 3
   },
   "file_extension": ".py",
   "mimetype": "text/x-python",
   "name": "python",
   "nbconvert_exporter": "python",
   "pygments_lexer": "ipython3",
   "version": "3.9.13"
  }
 },
 "nbformat": 4,
 "nbformat_minor": 2
}
