{
 "cells": [
  {
   "cell_type": "code",
   "execution_count": 2,
   "metadata": {},
   "outputs": [],
   "source": [
    "import numpy as np"
   ]
  },
  {
   "cell_type": "code",
   "execution_count": 2,
   "metadata": {},
   "outputs": [],
   "source": [
    "a1 = np.array([1,2,3,4,5])\n",
    "a2 = np.array([5,4,3,2,1])"
   ]
  },
  {
   "cell_type": "code",
   "execution_count": 3,
   "metadata": {},
   "outputs": [
    {
     "name": "stdout",
     "output_type": "stream",
     "text": [
      "[False False  True False False]\n",
      "[ True  True False False False]\n",
      "[ True  True  True False False]\n",
      "[False False False  True  True]\n",
      "[False False  True  True  True]\n"
     ]
    }
   ],
   "source": [
    "print(np.equal(a1,a2))\n",
    "print(np.less(a1,a2))\n",
    "print(np.less_equal(a1,a2))\n",
    "print(np.greater(a1,a2))\n",
    "print(np.greater_equal(a1,a2))\n"
   ]
  },
  {
   "cell_type": "code",
   "execution_count": 4,
   "metadata": {},
   "outputs": [
    {
     "name": "stdout",
     "output_type": "stream",
     "text": [
      "[ 1  3  5  7  9 11 13 15 17 19 21 23 25 27 29 31 33 35 37 39 41 43 45 47\n",
      " 49]\n"
     ]
    }
   ],
   "source": [
    "a3 = np.arange(1,51,2)\n",
    "print(a3)"
   ]
  },
  {
   "cell_type": "code",
   "execution_count": 5,
   "metadata": {},
   "outputs": [
    {
     "name": "stdout",
     "output_type": "stream",
     "text": [
      "[[1 0 0]\n",
      " [0 1 0]\n",
      " [0 0 1]]\n"
     ]
    }
   ],
   "source": [
    "a4_identity = np.identity(3,int)\n",
    "print(a4_identity)"
   ]
  },
  {
   "cell_type": "code",
   "execution_count": 6,
   "metadata": {},
   "outputs": [
    {
     "name": "stdout",
     "output_type": "stream",
     "text": [
      "Before : [ 7  8  6 19  2 13  8 19 20 11 20 10  1 18 10]\n",
      "After : [  7   8   6  19   2 -13   8  19  20 -11  20 -10   1  18 -10]\n"
     ]
    }
   ],
   "source": [
    "#Changing values - specific value range\n",
    "np.random.seed(40)\n",
    "a4 = np.random.randint(1,21,size=15)\n",
    "print(f\"Before : {a4}\")\n",
    "a5 = a4\n",
    "a5[(a5>=10) & (a5<=15)] *= -1\n",
    "print(f\"After : {a5}\")"
   ]
  },
  {
   "cell_type": "code",
   "execution_count": 18,
   "metadata": {},
   "outputs": [
    {
     "name": "stdout",
     "output_type": "stream",
     "text": [
      "Before : [ 7  8  6 19  2 13  8 19 20 11 20 10  1 18 10]\n",
      "After : [  7   8   6  19   2  13   8 -19 -20 -11 -20 -10   1  18  10]\n"
     ]
    }
   ],
   "source": [
    "#Changing values - specific index range\n",
    "np.random.seed(40)\n",
    "a4 = np.random.randint(1,21,size=15)\n",
    "print(f\"Before : {a4}\")\n",
    "a5 = a4\n",
    "a5[7:12] *= -1 #Changes values of index 7 to 12\n",
    "print(f\"After : {a5}\")"
   ]
  },
  {
   "cell_type": "code",
   "execution_count": 7,
   "metadata": {},
   "outputs": [
    {
     "name": "stdout",
     "output_type": "stream",
     "text": [
      "[[0 0 0 0 0]\n",
      " [0 0 0 0 0]\n",
      " [0 0 0 0 0]\n",
      " [0 0 0 0 0]\n",
      " [0 0 0 0 0]]\n",
      "[[1 0 0 0 0]\n",
      " [0 2 0 0 0]\n",
      " [0 0 3 0 0]\n",
      " [0 0 0 4 0]\n",
      " [0 0 0 0 5]]\n"
     ]
    }
   ],
   "source": [
    "#Zero Matrix and Diagonala fill\n",
    "a6 = np.zeros([5,5],int) #Creates 5x5 Zero matrix (integer)\n",
    "print(a6)\n",
    "np.fill_diagonal(a6,[1,2,3,4,5]) #Parameters of fill_diagonal(x,y) -- x-Matrix to alter y-Values to fill \n",
    "print(a6)"
   ]
  },
  {
   "cell_type": "code",
   "execution_count": 4,
   "metadata": {},
   "outputs": [
    {
     "name": "stdout",
     "output_type": "stream",
     "text": [
      "[[1 1 1 1]\n",
      " [2 2 2 2]\n",
      " [3 3 3 3]\n",
      " [4 4 4 4]]\n",
      "Column Sum : [10 10 10 10]\n",
      "Row Sum : [ 4  8 12 16]\n",
      "Matrix Sum : 40\n"
     ]
    }
   ],
   "source": [
    "a7 = np.array([[1,1,1,1],\n",
    "              [2,2,2,2],\n",
    "              [3,3,3,3],\n",
    "              [4,4,4,4]])\n",
    "print(a7)\n",
    "print(f\"Column Sum : {np.sum(a7,axis=0)}\")\n",
    "print(f\"Row Sum : {np.sum(a7,axis=1)}\")\n",
    "print(f\"Matrix Sum : {np.sum(a7)}\")\n"
   ]
  },
  {
   "cell_type": "code",
   "execution_count": 9,
   "metadata": {},
   "outputs": [],
   "source": [
    "np.savetxt(\"Array1.txt\",a7,fmt=\"%d\")"
   ]
  },
  {
   "cell_type": "code",
   "execution_count": 8,
   "metadata": {},
   "outputs": [
    {
     "name": "stdout",
     "output_type": "stream",
     "text": [
      "[[1 1 1 1]\n",
      " [2 2 2 2]\n",
      " [3 3 3 3]\n",
      " [4 4 4 4]]\n"
     ]
    }
   ],
   "source": [
    "# print(np.loadtxt('array.txt').astype(np.int64))\n",
    "a7_copy = np.loadtxt(\"Array1.txt\",dtype=int)\n",
    "print(a7_copy)"
   ]
  },
  {
   "cell_type": "code",
   "execution_count": 11,
   "metadata": {},
   "outputs": [
    {
     "name": "stdout",
     "output_type": "stream",
     "text": [
      "A8 = A9 ? \t False\n",
      "A8 = A10 ? \t True\n"
     ]
    }
   ],
   "source": [
    "a8 = np.array([1,2,2,4])\n",
    "a9 = np.array([1,2,3,4])\n",
    "a10 = np.array([1,2,2,4])\n",
    "print(f\"A8 = A9 ? \\t {np.array_equal(a8,a9)}\")\n",
    "print(f\"A8 = A10 ? \\t {np.array_equal(a8,a10)}\")"
   ]
  },
  {
   "cell_type": "code",
   "execution_count": 12,
   "metadata": {},
   "outputs": [
    {
     "name": "stdout",
     "output_type": "stream",
     "text": [
      "[[10 13 22 12]\n",
      " [10 11 13 19]\n",
      " [17 15 20 23]\n",
      " [22 18 13 13]]\n",
      "[[22 18 13 13]\n",
      " [10 11 13 19]\n",
      " [17 15 20 23]\n",
      " [10 13 22 12]]\n"
     ]
    }
   ],
   "source": [
    "np.random.seed(41)\n",
    "a11 = np.random.randint(10,25,size=(4,4))\n",
    "print(a11)\n",
    "a12 = a11\n",
    "a12[[0,-1],:] = a11[[-1,0],:]\n",
    "# a12[[1,-1],:] = a11[[-1,1],:]\n",
    "print(a12)"
   ]
  },
  {
   "cell_type": "code",
   "execution_count": 13,
   "metadata": {},
   "outputs": [
    {
     "name": "stdout",
     "output_type": "stream",
     "text": [
      "Sum :\n",
      "[[44 36 26 26]\n",
      " [20 22 26 38]\n",
      " [34 30 40 46]\n",
      " [20 26 44 24]]\n",
      "Diff :\n",
      "[[0 0 0 0]\n",
      " [0 0 0 0]\n",
      " [0 0 0 0]\n",
      " [0 0 0 0]]\n",
      "Product :\n",
      "[[484 324 169 169]\n",
      " [100 121 169 361]\n",
      " [289 225 400 529]\n",
      " [100 169 484 144]]\n"
     ]
    }
   ],
   "source": [
    "print(f\"Sum :\\n{a11+a12}\")\n",
    "print(f\"Diff :\\n{a11-a12}\")\n",
    "print(f\"Product :\\n{a11*a12}\")"
   ]
  },
  {
   "cell_type": "code",
   "execution_count": 14,
   "metadata": {},
   "outputs": [
    {
     "name": "stdout",
     "output_type": "stream",
     "text": [
      "[[484 324 169 169]\n",
      " [100 121 169 361]\n",
      " [289 225 400 529]\n",
      " [100 169 484 144]]\n"
     ]
    }
   ],
   "source": [
    "print(np.multiply(a11,a12))"
   ]
  },
  {
   "cell_type": "code",
   "execution_count": null,
   "metadata": {},
   "outputs": [],
   "source": []
  }
 ],
 "metadata": {
  "kernelspec": {
   "display_name": "Python 3",
   "language": "python",
   "name": "python3"
  },
  "language_info": {
   "codemirror_mode": {
    "name": "ipython",
    "version": 3
   },
   "file_extension": ".py",
   "mimetype": "text/x-python",
   "name": "python",
   "nbconvert_exporter": "python",
   "pygments_lexer": "ipython3",
   "version": "3.9.13"
  }
 },
 "nbformat": 4,
 "nbformat_minor": 2
}
